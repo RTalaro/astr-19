{
 "cells": [
  {
   "cell_type": "code",
   "execution_count": 4,
   "id": "5264628a-a738-4c05-988c-32b8b3097c22",
   "metadata": {},
   "outputs": [],
   "source": [
    "def s(x):\n",
    "    return m.sin(x)"
   ]
  },
  {
   "cell_type": "markdown",
   "id": "ac7ebb6a-2acb-4c89-95d9-5e18a6919e8a",
   "metadata": {},
   "source": [
    "This function returns the sine of x."
   ]
  },
  {
   "cell_type": "code",
   "execution_count": 5,
   "id": "8f4a8d7a-3d91-4246-9e6c-e1d5580894d9",
   "metadata": {},
   "outputs": [],
   "source": [
    "def c(x):\n",
    "    return m.cos(x)"
   ]
  },
  {
   "cell_type": "markdown",
   "id": "200a84fe-239a-471b-96ee-11af8db4e46b",
   "metadata": {},
   "source": [
    "This function returns the cosine of x."
   ]
  },
  {
   "cell_type": "code",
   "execution_count": 6,
   "id": "20bdb5a3-5359-4004-a731-de3d3548c18a",
   "metadata": {},
   "outputs": [
    {
     "ename": "ModuleNotFoundError",
     "evalue": "No module named 'astropy'",
     "output_type": "error",
     "traceback": [
      "\u001b[1;31m---------------------------------------------------------------------------\u001b[0m",
      "\u001b[1;31mModuleNotFoundError\u001b[0m                       Traceback (most recent call last)",
      "Cell \u001b[1;32mIn[6], line 3\u001b[0m\n\u001b[0;32m      1\u001b[0m \u001b[38;5;28;01mimport\u001b[39;00m \u001b[38;5;21;01mmath\u001b[39;00m \u001b[38;5;28;01mas\u001b[39;00m \u001b[38;5;21;01mm\u001b[39;00m\n\u001b[0;32m      2\u001b[0m \u001b[38;5;28;01mimport\u001b[39;00m \u001b[38;5;21;01mnumpy\u001b[39;00m \u001b[38;5;28;01mas\u001b[39;00m \u001b[38;5;21;01mnp\u001b[39;00m\n\u001b[1;32m----> 3\u001b[0m \u001b[38;5;28;01mfrom\u001b[39;00m \u001b[38;5;21;01mastropy\u001b[39;00m\u001b[38;5;21;01m.\u001b[39;00m\u001b[38;5;21;01mtable\u001b[39;00m \u001b[38;5;28;01mimport\u001b[39;00m Table\n\u001b[0;32m      4\u001b[0m \u001b[38;5;28;01mfrom\u001b[39;00m \u001b[38;5;21;01mastropy\u001b[39;00m\u001b[38;5;21;01m.\u001b[39;00m\u001b[38;5;21;01mio\u001b[39;00m \u001b[38;5;28;01mimport\u001b[39;00m ascii\n\u001b[0;32m      6\u001b[0m \u001b[38;5;28;01mdef\u001b[39;00m \u001b[38;5;21mtabulate\u001b[39m():\n",
      "\u001b[1;31mModuleNotFoundError\u001b[0m: No module named 'astropy'"
     ]
    }
   ],
   "source": [
    "import math as m\n",
    "import numpy as np\n",
    "from astropy.table import Table\n",
    "from astropy.io import ascii\n",
    "\n",
    "def tabulate():\n",
    "\tx=np.linspace(0,2*m.pi,1000)\n",
    "\ty=s(x)\n",
    "    z=c(x)\n",
    "\tdata=Table([y,z,x],names=['sin(x)','cos(x)','x'])\n",
    "\tascii.write(data,'table.txt',format='commented_header')\n",
    "\tdata_in=ascii.read('table.txt')\n",
    "\tprint(data_in)"
   ]
  },
  {
   "cell_type": "markdown",
   "id": "c16a5994-0fea-4182-a3b6-e454424c3f0b",
   "metadata": {},
   "source": [
    "This function tabulates sin(x), cos(x), and x, with x cycling between 0 and 2pi for a total of 1000 entries per column."
   ]
  },
  {
   "cell_type": "code",
   "execution_count": null,
   "id": "7f6a3003-59e0-4227-9ace-5272b72dd6fc",
   "metadata": {},
   "outputs": [],
   "source": [
    "def loop():\n",
    "    y=[]\n",
    "    z=[]\n",
    "    for x in range (1,10):\n",
    "        y.append(s(x))\n",
    "        z.append(c(x))\n",
    "    data=Table([x,y,z],names=['x','sin(x)','cos(x)'])\n",
    "\tascii.write(data,'table.txt',format='commented_header')\n",
    "\tdata_in=ascii.read('table.txt')\n",
    "\tprint(data_in)"
   ]
  },
  {
   "cell_type": "markdown",
   "id": "869a4fe3-05d5-40c5-a026-3e415d835e1c",
   "metadata": {},
   "source": [
    "This function tabulates x, sin(x), and cos(x), with x equal to values 1 through 10."
   ]
  },
  {
   "cell_type": "code",
   "execution_count": null,
   "id": "0cfe00b6-5793-4cc3-b3a0-8863cd381dc0",
   "metadata": {},
   "outputs": [],
   "source": [
    "def main():\n",
    "    tabulate()\n",
    "    loop()\n",
    "    \n",
    "if __name__=='__main__':\n",
    "\tmain()"
   ]
  },
  {
   "cell_type": "markdown",
   "id": "23c5ebc4-11bf-448b-b9dc-37925f569271",
   "metadata": {},
   "source": [
    "This main function calls the tabulate() and loop() functions that I defined above."
   ]
  }
 ],
 "metadata": {
  "kernelspec": {
   "display_name": "Python 3 (ipykernel)",
   "language": "python",
   "name": "python3"
  },
  "language_info": {
   "codemirror_mode": {
    "name": "ipython",
    "version": 3
   },
   "file_extension": ".py",
   "mimetype": "text/x-python",
   "name": "python",
   "nbconvert_exporter": "python",
   "pygments_lexer": "ipython3",
   "version": "3.11.5"
  }
 },
 "nbformat": 4,
 "nbformat_minor": 5
}
