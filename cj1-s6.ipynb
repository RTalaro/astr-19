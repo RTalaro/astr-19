{
 "cells": [
  {
   "cell_type": "code",
   "execution_count": 1,
   "id": "5264628a-a738-4c05-988c-32b8b3097c22",
   "metadata": {},
   "outputs": [],
   "source": [
    "def s(x):\n",
    "    m.sin(x)"
   ]
  },
  {
   "cell_type": "markdown",
   "id": "ac7ebb6a-2acb-4c89-95d9-5e18a6919e8a",
   "metadata": {},
   "source": []
  },
  {
   "cell_type": "code",
   "execution_count": 2,
   "id": "8f4a8d7a-3d91-4246-9e6c-e1d5580894d9",
   "metadata": {},
   "outputs": [],
   "source": [
    "def c(x):\n",
    "    m.cos(x)"
   ]
  },
  {
   "cell_type": "markdown",
   "id": "200a84fe-239a-471b-96ee-11af8db4e46b",
   "metadata": {},
   "source": []
  },
  {
   "cell_type": "code",
   "execution_count": 3,
   "id": "20bdb5a3-5359-4004-a731-de3d3548c18a",
   "metadata": {},
   "outputs": [
    {
     "ename": "ModuleNotFoundError",
     "evalue": "No module named 'astropy'",
     "output_type": "error",
     "traceback": [
      "\u001b[1;31m---------------------------------------------------------------------------\u001b[0m",
      "\u001b[1;31mModuleNotFoundError\u001b[0m                       Traceback (most recent call last)",
      "Cell \u001b[1;32mIn[3], line 3\u001b[0m\n\u001b[0;32m      1\u001b[0m \u001b[38;5;28;01mimport\u001b[39;00m \u001b[38;5;21;01mmath\u001b[39;00m \u001b[38;5;28;01mas\u001b[39;00m \u001b[38;5;21;01mm\u001b[39;00m\n\u001b[0;32m      2\u001b[0m \u001b[38;5;28;01mimport\u001b[39;00m \u001b[38;5;21;01mnumpy\u001b[39;00m \u001b[38;5;28;01mas\u001b[39;00m \u001b[38;5;21;01mnp\u001b[39;00m\n\u001b[1;32m----> 3\u001b[0m \u001b[38;5;28;01mfrom\u001b[39;00m \u001b[38;5;21;01mastropy\u001b[39;00m\u001b[38;5;21;01m.\u001b[39;00m\u001b[38;5;21;01mtable\u001b[39;00m \u001b[38;5;28;01mimport\u001b[39;00m Table\n\u001b[0;32m      4\u001b[0m \u001b[38;5;28;01mfrom\u001b[39;00m \u001b[38;5;21;01mastropy\u001b[39;00m\u001b[38;5;21;01m.\u001b[39;00m\u001b[38;5;21;01mio\u001b[39;00m \u001b[38;5;28;01mimport\u001b[39;00m ascii\n\u001b[0;32m      6\u001b[0m \u001b[38;5;28;01mdef\u001b[39;00m \u001b[38;5;21mtabulate\u001b[39m():\n",
      "\u001b[1;31mModuleNotFoundError\u001b[0m: No module named 'astropy'"
     ]
    }
   ],
   "source": [
    "import math as m\n",
    "import numpy as np\n",
    "from astropy.table import Table\n",
    "from astropy.io import ascii\n",
    "\n",
    "def tabulate():\n",
    "\tx=np.linspace(0,2*m.pi,1000)\n",
    "\ty=m.sin(x)\n",
    "\tdata=Table([x,y],names=['sin(x)','x'])\n",
    "\tascii.write(data,'table.txt',format='commented_header')\n",
    "\tdata_in=ascii.read('table.txt')\n",
    "\tprint(data_in)\n",
    "\n",
    "#def loop():\n",
    "    #for n in range (1,10):\n",
    "    \n",
    "if __name__=='__main__':\n",
    "\ttabulate()"
   ]
  },
  {
   "cell_type": "code",
   "execution_count": null,
   "id": "0cfe00b6-5793-4cc3-b3a0-8863cd381dc0",
   "metadata": {},
   "outputs": [],
   "source": []
  }
 ],
 "metadata": {
  "kernelspec": {
   "display_name": "Python 3 (ipykernel)",
   "language": "python",
   "name": "python3"
  },
  "language_info": {
   "codemirror_mode": {
    "name": "ipython",
    "version": 3
   },
   "file_extension": ".py",
   "mimetype": "text/x-python",
   "name": "python",
   "nbconvert_exporter": "python",
   "pygments_lexer": "ipython3",
   "version": "3.11.5"
  }
 },
 "nbformat": 4,
 "nbformat_minor": 5
}
